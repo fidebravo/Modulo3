{
 "cells": [
  {
   "cell_type": "markdown",
   "metadata": {},
   "source": [
    "# Módulo 3 Sprint\n",
    "\n",
    "*Análisis Exploratorio y Programación Estadística*\n",
    "\n",
    "**Objetivo del proyecto (Competencias del módulo)**\n",
    "\n",
    "Analizar datos utilizando el lenguaje Python y los conceptos de estadística descriptiva para la exploración y caracterización de la información.\n",
    "\n"
   ]
  },
  {
   "cell_type": "markdown",
   "metadata": {},
   "source": [
    "**Descripción del ejercicio**\n",
    "\n",
    "*Contexto*\n",
    "\n",
    "Crear un programa utilizando la librería que realice lo siguiente:\n"
   ]
  },
  {
   "cell_type": "markdown",
   "metadata": {},
   "source": [
    "1. Crear el siguiente DataFrame indexado:\n",
    "\n",
    "<img src=\"calorias.jpg\">\n",
    "\n"
   ]
  },
  {
   "cell_type": "code",
   "execution_count": 1,
   "metadata": {},
   "outputs": [
    {
     "data": {
      "text/html": [
       "<div>\n",
       "<style scoped>\n",
       "    .dataframe tbody tr th:only-of-type {\n",
       "        vertical-align: middle;\n",
       "    }\n",
       "\n",
       "    .dataframe tbody tr th {\n",
       "        vertical-align: top;\n",
       "    }\n",
       "\n",
       "    .dataframe thead th {\n",
       "        text-align: right;\n",
       "    }\n",
       "</style>\n",
       "<table border=\"1\" class=\"dataframe\">\n",
       "  <thead>\n",
       "    <tr style=\"text-align: right;\">\n",
       "      <th></th>\n",
       "      <th>calorias</th>\n",
       "      <th>tiempo</th>\n",
       "    </tr>\n",
       "  </thead>\n",
       "  <tbody>\n",
       "    <tr>\n",
       "      <th>L</th>\n",
       "      <td>420</td>\n",
       "      <td>60</td>\n",
       "    </tr>\n",
       "    <tr>\n",
       "      <th>M</th>\n",
       "      <td>380</td>\n",
       "      <td>40</td>\n",
       "    </tr>\n",
       "    <tr>\n",
       "      <th>X</th>\n",
       "      <td>390</td>\n",
       "      <td>75</td>\n",
       "    </tr>\n",
       "    <tr>\n",
       "      <th>J</th>\n",
       "      <td>490</td>\n",
       "      <td>55</td>\n",
       "    </tr>\n",
       "    <tr>\n",
       "      <th>V</th>\n",
       "      <td>300</td>\n",
       "      <td>45</td>\n",
       "    </tr>\n",
       "  </tbody>\n",
       "</table>\n",
       "</div>"
      ],
      "text/plain": [
       "   calorias  tiempo\n",
       "L       420      60\n",
       "M       380      40\n",
       "X       390      75\n",
       "J       490      55\n",
       "V       300      45"
      ]
     },
     "execution_count": 1,
     "metadata": {},
     "output_type": "execute_result"
    }
   ],
   "source": [
    "import pandas as pd\n",
    "\n",
    "indice = ['L', 'M', 'X', 'J', 'V']\n",
    "\n",
    "calorias_tiempo = {'calorias' : [420, 380, 390, 490, 300], 'tiempo' : [60, 40, 75, 55, 45]}\n",
    "\n",
    "df_calorias_tiempo = pd.DataFrame(calorias_tiempo, index=indice)\n",
    "df_calorias_tiempo\n"
   ]
  },
  {
   "cell_type": "markdown",
   "metadata": {},
   "source": [
    "2. Calcular la media, mediana, y desviación típica de ambas columnas."
   ]
  },
  {
   "cell_type": "code",
   "execution_count": 21,
   "metadata": {},
   "outputs": [
    {
     "name": "stdout",
     "output_type": "stream",
     "text": [
      "========================================== MEDIDAS DE TENDENCIA CENTRAL y DESVIACIÓN ESTÁNDAR ==========================================\n",
      "\n",
      "- En la columna \"calorías\" las medidas de tendencia central son: Media 396.0 calorías; Mediana 390.0 calorías; Desviación Estándar 68.77\n",
      "\n",
      "- En la columna \"tiempo\" las medidas de tendencia central son: Media 55.0 minutos; Mediana 55.0 minutos; Desviación Estándar 13.69\n",
      "\n",
      "========================================================================================================================================\n"
     ]
    }
   ],
   "source": [
    "media_calorias = df_calorias_tiempo['calorias'].mean()\n",
    "media_tiempo = df_calorias_tiempo['tiempo'].mean()\n",
    "\n",
    "mediana_calorias = df_calorias_tiempo['calorias'].median()\n",
    "mediana_tiempo = df_calorias_tiempo['tiempo'].median()\n",
    "\n",
    "s_calorias = df_calorias_tiempo['calorias'].std()\n",
    "s_tiempo = df_calorias_tiempo['tiempo'].std()\n",
    "\n",
    "\n",
    "print(' MEDIDAS DE TENDENCIA CENTRAL y DESVIACIÓN ESTÁNDAR '.center(136, '='))\n",
    "print()\n",
    "print(f'- En la columna \"calorías\" las medidas de tendencia central son: Media {media_calorias} calorías; Mediana {mediana_calorias} calorías; Desviación Estándar {s_calorias:.2f}')\n",
    "print()\n",
    "print(f'- En la columna \"tiempo\" las medidas de tendencia central son: Media {media_tiempo} minutos; Mediana {mediana_tiempo} minutos; Desviación Estándar {s_tiempo:.2f}')\n",
    "print()\n",
    "print('=' * 136)\n",
    "\n"
   ]
  },
  {
   "cell_type": "markdown",
   "metadata": {},
   "source": [
    "3. Añadir otra columna booleana al DataFrame para ver si se ha cumplido el reto de quemar más de 400 calorías por hora. La nueva columna debe generarse aplicando una fórmula a las otras columnas. El DataFrame resultante debe ser el siguiente:\n",
    "\n",
    "<img src='reto.jpg'>"
   ]
  },
  {
   "cell_type": "code",
   "execution_count": 23,
   "metadata": {},
   "outputs": [
    {
     "data": {
      "text/html": [
       "<div>\n",
       "<style scoped>\n",
       "    .dataframe tbody tr th:only-of-type {\n",
       "        vertical-align: middle;\n",
       "    }\n",
       "\n",
       "    .dataframe tbody tr th {\n",
       "        vertical-align: top;\n",
       "    }\n",
       "\n",
       "    .dataframe thead th {\n",
       "        text-align: right;\n",
       "    }\n",
       "</style>\n",
       "<table border=\"1\" class=\"dataframe\">\n",
       "  <thead>\n",
       "    <tr style=\"text-align: right;\">\n",
       "      <th></th>\n",
       "      <th>calorias</th>\n",
       "      <th>tiempo</th>\n",
       "      <th>reto</th>\n",
       "    </tr>\n",
       "  </thead>\n",
       "  <tbody>\n",
       "    <tr>\n",
       "      <th>L</th>\n",
       "      <td>420</td>\n",
       "      <td>60</td>\n",
       "      <td>True</td>\n",
       "    </tr>\n",
       "    <tr>\n",
       "      <th>M</th>\n",
       "      <td>380</td>\n",
       "      <td>40</td>\n",
       "      <td>True</td>\n",
       "    </tr>\n",
       "    <tr>\n",
       "      <th>X</th>\n",
       "      <td>390</td>\n",
       "      <td>75</td>\n",
       "      <td>False</td>\n",
       "    </tr>\n",
       "    <tr>\n",
       "      <th>J</th>\n",
       "      <td>490</td>\n",
       "      <td>55</td>\n",
       "      <td>True</td>\n",
       "    </tr>\n",
       "    <tr>\n",
       "      <th>V</th>\n",
       "      <td>300</td>\n",
       "      <td>45</td>\n",
       "      <td>False</td>\n",
       "    </tr>\n",
       "  </tbody>\n",
       "</table>\n",
       "</div>"
      ],
      "text/plain": [
       "   calorias  tiempo   reto\n",
       "L       420      60   True\n",
       "M       380      40   True\n",
       "X       390      75  False\n",
       "J       490      55   True\n",
       "V       300      45  False"
      ]
     },
     "execution_count": 23,
     "metadata": {},
     "output_type": "execute_result"
    }
   ],
   "source": [
    "reto = 400 / 60\n",
    "\n",
    "serie_reto = (df_calorias_tiempo['calorias'] / df_calorias_tiempo['tiempo']) > reto\n",
    "df_calorias_tiempo['reto'] = serie_reto\n",
    "\n",
    "df_calorias_tiempo\n"
   ]
  },
  {
   "cell_type": "code",
   "execution_count": null,
   "metadata": {},
   "outputs": [],
   "source": []
  }
 ],
 "metadata": {
  "kernelspec": {
   "display_name": "base",
   "language": "python",
   "name": "python3"
  },
  "language_info": {
   "codemirror_mode": {
    "name": "ipython",
    "version": 3
   },
   "file_extension": ".py",
   "mimetype": "text/x-python",
   "name": "python",
   "nbconvert_exporter": "python",
   "pygments_lexer": "ipython3",
   "version": "3.11.7"
  }
 },
 "nbformat": 4,
 "nbformat_minor": 2
}
