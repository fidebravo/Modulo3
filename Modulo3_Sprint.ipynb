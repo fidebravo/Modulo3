{
 "cells": [
  {
   "cell_type": "markdown",
   "metadata": {},
   "source": [
    "# Módulo 3 Sprint\n",
    "\n",
    "*Análisis Exploratorio y Programación Estadística*\n",
    "\n",
    "**Objetivo del proyecto (Competencias del módulo)**\n",
    "\n",
    "Analizar datos utilizando el lenguaje Python y los conceptos de estadística descriptiva para la exploración y caracterización de la información.\n",
    "\n"
   ]
  },
  {
   "cell_type": "markdown",
   "metadata": {},
   "source": [
    "**Descripción del ejercicio**\n",
    "\n",
    "*Contexto*\n",
    "\n",
    "Crear un programa utilizando la librería que realice lo siguiente:\n"
   ]
  },
  {
   "cell_type": "markdown",
   "metadata": {},
   "source": [
    "1. Crear el siguiente DataFrame indexado:\n",
    "\n",
    "<img src=\"calorias.jpg\">\n",
    "\n"
   ]
  },
  {
   "cell_type": "code",
   "execution_count": null,
   "metadata": {},
   "outputs": [],
   "source": [
    "import pandas as pd\n",
    "\n",
    "indice = ['L', 'M', 'X', 'J', 'V']\n",
    "\n",
    "calorias_tiempo = {'calorias' : [420, 380, 390, 490, 300], 'tiempo' : [60, 40, 75, 55, 45]}\n",
    "\n",
    "df_calorias_tiempo = pd.DataFrame(calorias_tiempo, index=indice)\n",
    "df_calorias_tiempo\n"
   ]
  },
  {
   "cell_type": "markdown",
   "metadata": {},
   "source": [
    "2. Calcular la media, mediana, y desviación típica de ambas columnas."
   ]
  },
  {
   "cell_type": "code",
   "execution_count": null,
   "metadata": {},
   "outputs": [],
   "source": [
    "media_calorias = df_calorias_tiempo['calorias'].mean()\n",
    "media_tiempo = df_calorias_tiempo['tiempo'].mean()\n",
    "\n",
    "mediana_calorias = df_calorias_tiempo['calorias'].median()\n",
    "mediana_tiempo = df_calorias_tiempo['tiempo'].median()\n",
    "\n",
    "s_calorias = df_calorias_tiempo['calorias'].std()\n",
    "s_tiempo = df_calorias_tiempo['tiempo'].std()\n",
    "\n",
    "\n",
    "print(' MEDIDAS DE TENDENCIA CENTRAL y DESVIACIÓN ESTÁNDAR '.center(136, '='))\n",
    "print()\n",
    "print(f'- En la columna \"calorías\" las medidas de tendencia central son: Media {media_calorias} calorías; Mediana {mediana_calorias} calorías; Desviación Estándar {s_calorias:.2f}')\n",
    "print()\n",
    "print(f'- En la columna \"tiempo\" las medidas de tendencia central son: Media {media_tiempo} minutos; Mediana {mediana_tiempo} minutos; Desviación Estándar {s_tiempo:.2f}')\n",
    "print()\n",
    "print('=' * 136)\n",
    "\n"
   ]
  },
  {
   "cell_type": "markdown",
   "metadata": {},
   "source": [
    "3. Añadir otra columna booleana al DataFrame para ver si se ha cumplido el reto de quemar más de 400 calorías por hora. La nueva columna debe generarse aplicando una fórmula a las otras columnas. El DataFrame resultante debe ser el siguiente:\n",
    "\n",
    "<img src='reto.jpg'>"
   ]
  },
  {
   "cell_type": "code",
   "execution_count": null,
   "metadata": {},
   "outputs": [],
   "source": [
    "reto = 400 / 60\n",
    "\n",
    "serie_reto = (df_calorias_tiempo['calorias'] / df_calorias_tiempo['tiempo']) > reto\n",
    "df_calorias_tiempo['reto'] = serie_reto\n",
    "\n",
    "df_calorias_tiempo\n"
   ]
  },
  {
   "cell_type": "markdown",
   "metadata": {},
   "source": [
    "4. Filtrar el DataFrame y devolver otro DataFrame con las filas pares que cumplan que el número de calorías es mayor de 400."
   ]
  },
  {
   "cell_type": "code",
   "execution_count": null,
   "metadata": {},
   "outputs": [],
   "source": [
    "filas_pares = [i % 2 == 0 for i in range(len(df_calorias_tiempo))]\n",
    "df_filtrado = df_calorias_tiempo.iloc[filas_pares]\n",
    "df_filtrado_calorias_filas_par_mayor_400 = df_filtrado[df_filtrado['calorias'] > 400]\n",
    "df_filtrado_calorias_filas_par_mayor_400\n",
    "\n",
    "\n"
   ]
  },
  {
   "cell_type": "markdown",
   "metadata": {},
   "source": [
    "*Observación: Respecto al ejercicio anterior, he realizado el cálculo considerando las filas pares desde su índice.  Debido a que los índices en Python comienzan desde el [0], la primera fila es par, contra-intuitivamente al ordenado de las filas.  En caso de que la respuesta del ejercicio anterior no satisfaga el resultado esperado y se refiriera al ordenado de filas (o sea la primera fila impar y la segunda fila par), el ejercicio se corrige cambiando la fórmula de la variable 'filas pares' de la siguiente manera:*\n",
    "\n",
    "**filas_pares = [i % 2 != 0 for in in range(len(df_calorias_tiempo))]**\n",
    "\n",
    "*El resultado entonces sería que solo el día jueves se cumple la condición*"
   ]
  },
  {
   "cell_type": "markdown",
   "metadata": {},
   "source": [
    "**5. Crear a partir del DataFrame una serie con los porcentajes de días que se ha conseguido el reto y los que no**"
   ]
  },
  {
   "cell_type": "code",
   "execution_count": null,
   "metadata": {},
   "outputs": [],
   "source": [
    "serie_porcentaje_calorias_cumple = (df_calorias_tiempo['reto']).value_counts(normalize=True) * 100\n",
    "\n",
    "porcentaje_true = serie_porcentaje_calorias_cumple.iloc[0]\n",
    "porcentaje_false = serie_porcentaje_calorias_cumple.iloc[1]\n",
    "\n",
    "print('PORCENTAJE DE CUMPLIMIENTO Y NO CUMPLIMIENTO DE RETO 400 CALORIAS POR HORA'.center(90))\n",
    "print('-' * 90)\n",
    "print(f'- El porcentaje de días que se cumplio el reto de 400 calorias por hora es {porcentaje_true}%')\n",
    "print()\n",
    "print(f'- El porcentaje de días que no se cumplio el reto de 400 calorias por hora es {porcentaje_false}%')\n"
   ]
  },
  {
   "cell_type": "markdown",
   "metadata": {},
   "source": [
    "6. Crear un gráfico como el de más abajo que muestre la progresión de las calorías y tiempo durante la semana.\n",
    "\n",
    "<img src='grafico_ejemplo.jpg'>\n"
   ]
  },
  {
   "cell_type": "code",
   "execution_count": null,
   "metadata": {},
   "outputs": [],
   "source": [
    "import matplotlib.pyplot as plt\n",
    "\n",
    "plt.figure(figsize=(8,6))\n",
    "plt.plot(df_calorias_tiempo.index, df_calorias_tiempo['calorias'], marker='+', color='b', label='Calorías')\n",
    "plt.plot(df_calorias_tiempo.index, df_calorias_tiempo['tiempo'], marker='o', color='orange', label='Tiempo')\n",
    "\n",
    "plt.title('Evolución diaria')\n",
    "plt.xlabel('Días')\n",
    "plt.ylabel('Cantidad')\n",
    "plt.xticks(df_calorias_tiempo.index)\n",
    "plt.legend(loc='upper left')\n",
    "\n",
    "plt.show()\n"
   ]
  },
  {
   "cell_type": "code",
   "execution_count": null,
   "metadata": {},
   "outputs": [],
   "source": []
  }
 ],
 "metadata": {
  "kernelspec": {
   "display_name": "base",
   "language": "python",
   "name": "python3"
  },
  "language_info": {
   "codemirror_mode": {
    "name": "ipython",
    "version": 3
   },
   "file_extension": ".py",
   "mimetype": "text/x-python",
   "name": "python",
   "nbconvert_exporter": "python",
   "pygments_lexer": "ipython3",
   "version": "3.11.7"
  }
 },
 "nbformat": 4,
 "nbformat_minor": 2
}
