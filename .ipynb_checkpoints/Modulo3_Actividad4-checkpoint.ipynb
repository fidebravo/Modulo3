{
 "cells": [
  {
   "cell_type": "markdown",
   "metadata": {},
   "source": [
    "# Modulo 3 Actividad 4"
   ]
  },
  {
   "cell_type": "markdown",
   "metadata": {},
   "source": [
    "Intención del aprendizaje esperado:\n",
    "\n",
    "4. Presentar información de un set de datos utilizando librería Seaborn para graficar la información.\n"
   ]
  },
  {
   "cell_type": "markdown",
   "metadata": {},
   "source": [
    "**Ejercicios Planteados**\n",
    "\n",
    "Seaborn es una librería que contiene mucha utilidades. Una de ellas es un conjunto de dataset de ejemplos con los que tendremos datos para analizar y así no necesitaremos cargar archivos externos.\n"
   ]
  },
  {
   "cell_type": "markdown",
   "metadata": {},
   "source": [
    "*a) Averiguar cuáles son algunos de los dataset que contiene Seaborn.*"
   ]
  },
  {
   "cell_type": "code",
   "execution_count": null,
   "metadata": {},
   "outputs": [],
   "source": [
    "import seaborn as sns\n",
    "import warnings\n",
    "\n",
    "warnings.filterwarnings('ignore')\n",
    "\n",
    "datasets = sns.get_dataset_names()\n",
    "\n",
    "print('Los datasets  disponibles en Seaborn son:')\n",
    "print('=' *50)\n",
    "for i in datasets:\n",
    "        print(i)\n"
   ]
  },
  {
   "cell_type": "markdown",
   "metadata": {},
   "source": [
    "b) Cargar el dataset de titanic, se utilizará en los siguientes ejercicios."
   ]
  },
  {
   "cell_type": "code",
   "execution_count": null,
   "metadata": {},
   "outputs": [],
   "source": [
    "titanic_dataset = sns.load_dataset('titanic')\n"
   ]
  },
  {
   "cell_type": "markdown",
   "metadata": {},
   "source": [
    "c) Confeccione un gráfico de barras para visualizar hombres y mujeres que han sobrevivido."
   ]
  },
  {
   "cell_type": "code",
   "execution_count": null,
   "metadata": {},
   "outputs": [],
   "source": [
    "import pandas as pd\n",
    "import matplotlib.pyplot as plt\n",
    "\n",
    "df_titanic = pd.DataFrame(titanic_dataset)\n",
    "df_titanic_sobrevivientes = df_titanic[df_titanic['survived'] == 1]\n",
    "\n",
    "conteo_sobrevivientes = df_titanic_sobrevivientes['sex'].value_counts()\n",
    "df_conteo_sobrevivientes = pd.DataFrame(conteo_sobrevivientes).reset_index()\n",
    "\n",
    "sns.barplot(x='sex', y='count', data=df_conteo_sobrevivientes, palette='pastel').set_title('Cantidad de pasajeros sobrevivientes por género')\n",
    "sns.set_style(\"whitegrid\")\n",
    "\n",
    "\n",
    "for index, valor in enumerate(df_conteo_sobrevivientes['count']):\n",
    "    plt.text(index, valor + 0.5, str(valor), ha='center', va='bottom', fontsize=10)\n",
    "\n",
    "plt.xlabel('Sexo')\n",
    "plt.ylabel('Número de pasajeros que sobrevivieron')\n",
    "\n",
    "plt.show()\n",
    "\n"
   ]
  },
  {
   "cell_type": "markdown",
   "metadata": {},
   "source": [
    "d) Crear un gráfico de distribución de edades por clase de pasajero"
   ]
  },
  {
   "cell_type": "code",
   "execution_count": null,
   "metadata": {},
   "outputs": [],
   "source": [
    "df_titanic\n",
    "\n",
    "sns.histplot(data=df_titanic, x='age', hue='pclass', bins=80, kde=True, palette='dark')\n",
    "\n",
    "plt.title('Distribución de edades por clase de ticket')\n",
    "plt.xlabel('Edad')\n",
    "plt.ylabel('Cantidad Pasajeros / Clase Ticket')\n",
    "plt.yticks(range(0, 21, 1))\n",
    "\n",
    "plt.show()\n"
   ]
  },
  {
   "cell_type": "markdown",
   "metadata": {},
   "source": [
    "e) Diagrama de Caja (Boxplot) de Tarifas por Puerto de Embarque."
   ]
  },
  {
   "cell_type": "code",
   "execution_count": null,
   "metadata": {},
   "outputs": [],
   "source": [
    "sns.boxplot(data=df_titanic, x='embark_town', y='fare', palette='pastel')\n",
    "\n",
    "plt.title('Tarifas por Puerto de Embarque')\n",
    "plt.xlabel('Puerto de Embarque')\n",
    "plt.ylabel('Tarifa')\n",
    "\n",
    "plt.show()"
   ]
  },
  {
   "cell_type": "markdown",
   "metadata": {},
   "source": [
    "f) Gráfico de Violín de Edades por Supervivencia."
   ]
  },
  {
   "cell_type": "code",
   "execution_count": null,
   "metadata": {},
   "outputs": [],
   "source": [
    "plt.figure(figsize=(10, 6))\n",
    "\n",
    "sns.violinplot(x='survived', y='age', data=df_titanic, palette='pastel', inner='quartile')\n",
    "\n",
    "plt.title('Distribución de edades por sobrevivencia')\n",
    "plt.xlabel('Sobrevivencia')\n",
    "plt.ylabel('Edad')\n",
    "plt.xticks(ticks=[0, 1], labels=['No Sobrevivió', 'Sobrevivió'])\n",
    "\n",
    "plt.show()\n"
   ]
  },
  {
   "cell_type": "markdown",
   "metadata": {},
   "source": [
    "g) Diagrama de dispersión de Tarifas vs. Edades por Supervivencia."
   ]
  },
  {
   "cell_type": "code",
   "execution_count": null,
   "metadata": {},
   "outputs": [],
   "source": [
    "plt.figure(figsize=(10, 6))\n",
    "\n",
    "sns.scatterplot(x='age', y='fare', hue='survived', data=df_titanic, palette=['red', 'green'], alpha=0.6)\n",
    "\n",
    "plt.title('Tarifas vs. Edades por Supervivencia')\n",
    "plt.xlabel('Edad')\n",
    "plt.ylabel('Tarifa')\n",
    "plt.legend(title='Sobrevivencia', loc='upper left', labels=['No', 'Si'])\n",
    "plt.show()\n"
   ]
  },
  {
   "cell_type": "markdown",
   "metadata": {},
   "source": [
    "h) Crear un agráficos de pilas agrupadas según supervivencia vs clase, agrupadas por puerto de embarque."
   ]
  },
  {
   "cell_type": "code",
   "execution_count": null,
   "metadata": {},
   "outputs": [],
   "source": [
    "\n",
    "df_puertos = pd.DataFrame(titanic_dataset)\n",
    "df_puertos['embark_town'] =  df_puertos['embark_town'].fillna('Southampton')\n",
    "\n",
    "df_filtrado_southampton = df_puertos['embark_town'] == 'Southampton'\n",
    "df_southampton = df_puertos[df_filtrado_southampton]\n",
    "valores_south = df_southampton['pclass'].value_counts()\n",
    "df_southampton_doa = df_southampton.groupby(['survived', 'pclass']).size().unstack(fill_value=0)\n",
    "\n",
    "\n",
    "df_filtrado_cherbourg = df_puertos['embark_town'] == 'Cherbourg'\n",
    "df_cherbourg = df_puertos[df_filtrado_cherbourg]\n",
    "\n",
    "df_filtrado_queenstown = df_puertos['embark_town' ]== 'Queenstown'\n",
    "df_queenstown = df_puertos[df_filtrado_queenstown]\n",
    "\n",
    "\n",
    "\n",
    "\n"
   ]
  },
  {
   "cell_type": "code",
   "execution_count": null,
   "metadata": {},
   "outputs": [],
   "source": [
    "colores = ['red', 'green']\n",
    "\n",
    "try:\n",
    "    sns.countplot(data=df_southampton, x='pclass', hue='survived',  palette=colores)\n",
    "except AttributeError as e:\n",
    "    print('')\n",
    "\n",
    "plt.title('Embarcados en Southampton')\n",
    "plt.xlabel('Clase de pasaje (Pclass)')\n",
    "plt.ylabel('Cantidad Pasajeros')\n",
    "\n",
    "plt.show()\n",
    "\n",
    "\n"
   ]
  },
  {
   "cell_type": "code",
   "execution_count": null,
   "metadata": {},
   "outputs": [],
   "source": [
    "try:\n",
    "    sns.countplot(data=df_queenstown, x='pclass', hue='survived',  palette=colores)\n",
    "except AttributeError as e:\n",
    "    print('')\n",
    "\n",
    "plt.title('Embarcados en Queenstown')\n",
    "plt.xlabel('Clase de pasaje (Pclass)')\n",
    "plt.ylabel('Cantidad Pasajeros')\n",
    "\n",
    "plt.show()\n"
   ]
  },
  {
   "cell_type": "code",
   "execution_count": null,
   "metadata": {},
   "outputs": [],
   "source": [
    "try:\n",
    "    sns.countplot(data=df_cherbourg, x='pclass', hue='survived',  palette=colores)\n",
    "except AttributeError as e:\n",
    "    print('')\n",
    "\n",
    "plt.title('Embarcados en Cherbourg')\n",
    "plt.xlabel('Clase de pasaje (Pclass)')\n",
    "plt.ylabel('Cantidad Pasajeros')\n",
    "\n",
    "plt.show()"
   ]
  },
  {
   "cell_type": "markdown",
   "metadata": {},
   "source": [
    "i) pairplot para mostrar gráficos de dispersión y histogramas de las variables 'Age', 'Fare' y 'Pclass' del Titanic, diferenciando entre los pasajeros que sobrevivieron y los que no"
   ]
  },
  {
   "cell_type": "code",
   "execution_count": null,
   "metadata": {},
   "outputs": [],
   "source": [
    "import seaborn as sns\n",
    "import matplotlib.pyplot as plt\n",
    "\n",
    "\n",
    "df_survived = df_titanic[df_titanic['survived'] == 1]\n",
    "df_not_survived = df_titanic[df_titanic['survived'] == 0]\n",
    "\n",
    "\n",
    "variables_de_interes = ['age', 'fare', 'pclass']\n",
    "\n",
    "\n",
    "df_combined = pd.concat([df_survived, df_not_survived], keys=['Survived', 'Not Survived'])\n",
    "\n",
    "\n",
    "sns.pairplot(df_combined, vars=variables_de_interes, hue='survived', diag_kind='hist', palette='dark')\n",
    "\n",
    "\n",
    "plt.suptitle('Pairplot de Edad, Tarifas y Clases diferenciando entre sobrevivientes y no sobrevivientes', y=1.02)\n",
    "\n",
    "plt.show()\n"
   ]
  },
  {
   "cell_type": "code",
   "execution_count": null,
   "metadata": {},
   "outputs": [],
   "source": []
  }
 ],
 "metadata": {
  "kernelspec": {
   "display_name": "base",
   "language": "python",
   "name": "python3"
  },
  "language_info": {
   "codemirror_mode": {
    "name": "ipython",
    "version": 3
   },
   "file_extension": ".py",
   "mimetype": "text/x-python",
   "name": "python",
   "nbconvert_exporter": "python",
   "pygments_lexer": "ipython3",
   "version": "3.11.7"
  }
 },
 "nbformat": 4,
 "nbformat_minor": 2
}
