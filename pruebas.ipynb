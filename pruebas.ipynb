{
 "cells": [
  {
   "cell_type": "code",
   "execution_count": null,
   "metadata": {},
   "outputs": [],
   "source": [
    "# coma code\n",
    "\n",
    "def commacode(lista):\n",
    "\n",
    "    largo_lista =  len(lista)\n",
    "    \n",
    "    for i in range(largo_lista):\n",
    "        if i != (largo_lista - 1) and i != (largo_lista - 2):\n",
    "            print(lista[i], end=', ')\n",
    "        elif i == (largo_lista - 2):\n",
    "            print(lista[i], end=' ')\n",
    "        else:\n",
    "            print('and ' + lista[i])\n",
    "\n"
   ]
  },
  {
   "cell_type": "code",
   "execution_count": 11,
   "metadata": {},
   "outputs": [
    {
     "name": "stdout",
     "output_type": "stream",
     "text": [
      "..00.00..\n",
      ".0000000.\n",
      ".0000000.\n",
      "..00000..\n",
      "...000...\n",
      "....0....\n"
     ]
    }
   ],
   "source": [
    "grid = [['.', '.', '.', '.', '.', '.'],\n",
    "        ['.', '0', '0', '.', '.', '.'],\n",
    "        ['0', '0', '0', '0', '.', '.'],\n",
    "        ['0', '0', '0', '0', '0', '.'],\n",
    "        ['.', '0', '0', '0', '0', '0'],\n",
    "        ['0', '0', '0', '0', '0', '.'],\n",
    "        ['0', '0', '0', '0', '.', '.'],\n",
    "        ['.', '0', '0', '.', '.', '.'],\n",
    "        ['.', '.', '.', '.', '.', '.']\n",
    "        ]\n",
    "\n",
    "for i in  range(len(grid[0])):\n",
    "    for j in range(len(grid)):\n",
    "        print(grid[j][i], end= '')\n",
    "    print()\n",
    "\n"
   ]
  },
  {
   "cell_type": "code",
   "execution_count": null,
   "metadata": {},
   "outputs": [],
   "source": []
  }
 ],
 "metadata": {
  "kernelspec": {
   "display_name": "base",
   "language": "python",
   "name": "python3"
  },
  "language_info": {
   "codemirror_mode": {
    "name": "ipython",
    "version": 3
   },
   "file_extension": ".py",
   "mimetype": "text/x-python",
   "name": "python",
   "nbconvert_exporter": "python",
   "pygments_lexer": "ipython3",
   "version": "3.11.7"
  }
 },
 "nbformat": 4,
 "nbformat_minor": 2
}
