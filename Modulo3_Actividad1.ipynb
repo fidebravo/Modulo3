{
 "cells": [
  {
   "cell_type": "markdown",
   "metadata": {},
   "source": [
    "# Modulo 3 Actividad 1"
   ]
  },
  {
   "cell_type": "markdown",
   "metadata": {},
   "source": [
    "### Intención del aprendizaje esperado:\n",
    "\n",
    "1. Utilizar los conceptos básicos de estadística descriptiva para la caracterización de un conjunto de datos de una población."
   ]
  },
  {
   "cell_type": "markdown",
   "metadata": {},
   "source": [
    "## Ejercicios Planteados\n",
    "\n",
    "**Caso:**\n",
    "\n",
    "En una clínica infantil se ha ido anotando, durante un mes, el número de metros que cada niño anda, seguido y sin caerse, el primer día que comienza a caminar, obteniéndose la tabla de información adjunta:\n",
    "\n",
    "<img src=\"TablaFrecuencia3_1.jpg\">\n",
    "\n",
    "**Se pide:**\n",
    "\n",
    "\n",
    "a) Tabla de Frecuencia. Diagrama de Barras para las frecuencias absolutas, relativas y acumuladas.\n"
   ]
  },
  {
   "cell_type": "code",
   "execution_count": null,
   "metadata": {},
   "outputs": [],
   "source": [
    "import pandas as pd\n",
    "import matplotlib.pyplot as plt\n",
    "\n",
    "\n",
    "metros = []\n",
    "ninnos = [2, 6, 10, 5, 10, 3, 2, 2]\n",
    "tabla_registros = []\n",
    "\n",
    "\n",
    "for i in range(1, 9):\n",
    "    metros.append(i)\n",
    "\n",
    "for metro, ninnos in zip(metros, ninnos):\n",
    "    tabla_registros.extend([metro] * ninnos)\n",
    "\n",
    "# Crear el DataFrame de la tabla de frecuencia\n",
    "df_tabla_frecuencia = pd.DataFrame(tabla_registros, columns=['Metros'])\n",
    "\n",
    "# Contar la frecuencia de cada metro y agregarlo como una columna\n",
    "df_tabla_frecuencia['Niños'] = df_tabla_frecuencia.groupby('Metros')['Metros'].transform('count')\n",
    "\n",
    "# Eliminar las filas duplicadas para obtener la tabla de frecuencia única\n",
    "df_tabla_frecuencia = df_tabla_frecuencia.drop_duplicates().reset_index(drop=True)\n",
    "\n",
    "print(df_tabla_frecuencia)\n",
    "\n"
   ]
  },
  {
   "cell_type": "code",
   "execution_count": null,
   "metadata": {},
   "outputs": [],
   "source": [
    "import pandas as pd\n",
    "import matplotlib.pyplot as plt\n",
    "import numpy as np\n",
    "\n",
    "cantidad_ninnos = len(tabla_registros)\n",
    "\n",
    "df_tabla_frecuencia['Frecuencia Relativa'] =  df_tabla_frecuencia['Niños'] / cantidad_ninnos * 100\n",
    "df_tabla_frecuencia['Frecuencia Acumulada'] = df_tabla_frecuencia['Niños'].cumsum()\n",
    "\n",
    "\n",
    "fig, ax = plt.subplots(figsize=(10, 6))\n",
    "\n",
    "\n",
    "bar_width = 0.2\n",
    "index = np.arange(len(df_tabla_frecuencia['Metros']))\n",
    "\n",
    "\n",
    "barra_nino = ax.bar(index - bar_width, df_tabla_frecuencia['Niños'], bar_width, label='Niños', color='skyblue')\n",
    "barra_f_acumulada = ax.bar(index, df_tabla_frecuencia['Frecuencia Acumulada'], bar_width, label='Frecuencia Acumulada', color='orange')\n",
    "barra_f_relativa = ax.bar(index + bar_width, df_tabla_frecuencia['Frecuencia Relativa'], bar_width, label='Frecuencia Relativa (%)', color='green')\n",
    "\n",
    "\n",
    "ax.set_xlabel('Metros')\n",
    "ax.set_ylabel('Niños / Frecuencia Acumulada / Frecuencia Relativa (%)')\n",
    "ax.set_title('Gráfico de Barras por Metros')\n",
    "ax.set_xticks(index)\n",
    "ax.set_xticklabels(df_tabla_frecuencia['Metros'])\n",
    "ax.legend()\n",
    "\n",
    "def autolabel(barra):\n",
    "    for i in barra:\n",
    "        height = i.get_height()\n",
    "        ax.annotate('{}'.format(height),\n",
    "                    xy=(i.get_x() + i.get_width() / 2, height),\n",
    "                    xytext=(0, 3),  \n",
    "                    textcoords=\"offset points\",\n",
    "                    ha='center', va='bottom')\n",
    "\n",
    "autolabel(barra_nino)\n",
    "autolabel(barra_f_acumulada)\n",
    "autolabel(barra_f_relativa)\n",
    "\n",
    "\n",
    "plt.show()\n"
   ]
  },
  {
   "cell_type": "markdown",
   "metadata": {},
   "source": [
    "b) Mediana, media aritmética, moda y cuartiles.\n"
   ]
  },
  {
   "cell_type": "code",
   "execution_count": null,
   "metadata": {},
   "outputs": [],
   "source": [
    "mediana_metros_ninos = np.median(tabla_registros)\n",
    "media_aritmetica_metros_ninos = np.mean(tabla_registros)\n",
    "\n",
    "para_moda = pd.Series(tabla_registros)\n",
    "moda = para_moda.mode()\n",
    "moda1 = moda[0]\n",
    "moda2 = moda[1]\n",
    "\n",
    "para_cuartiles = np.array(tabla_registros)\n",
    "q1 = np.percentile(para_cuartiles, 25)\n",
    "q2 = np.percentile(para_cuartiles, 50)\n",
    "q3 = np.percentile(para_cuartiles, 75)\n",
    "\n",
    "print(' Medidas de Tendencia Central '.center(85, '='))\n",
    "\n",
    "print('_' * 85)\n",
    "print(\"{:^10} {:^19} {:^12} {:^14} {:^14} {:^14}\".format('Mediana', 'Media Aritmética', 'Moda (2)', 'Cuartil 1', 'Cuartil 2', 'Cuartil 3'))\n",
    "print(\"{:^10} {:^19} {:^6} {:^6} {:^14} {:^14} {:^14}\".format(mediana_metros_ninos, media_aritmetica_metros_ninos, moda1, moda2, q1, q2, q3))\n",
    "\n"
   ]
  },
  {
   "cell_type": "markdown",
   "metadata": {},
   "source": [
    "c) Varianza y desviación Estándar."
   ]
  },
  {
   "cell_type": "code",
   "execution_count": null,
   "metadata": {},
   "outputs": [],
   "source": [
    "varianza_metros_ninos = round(para_moda.var(), 6)\n",
    "desv_std = round(para_moda.std(),  6)\n",
    "\n",
    "\n",
    "print(' Medidas de Dispersión '. center(50, '='))\n",
    "print('_' * 50)\n",
    "print('{:^25} {:^25}'.format(' Varianza ', 'Desviación Estandar'))\n",
    "print('{:^25} {:^25}'.format(varianza_metros_ninos, desv_std))\n",
    "\n"
   ]
  },
  {
   "cell_type": "markdown",
   "metadata": {},
   "source": [
    "d) ¿Entre qué dos valores se encuentra, como mínimo, el 75% de las observaciones?"
   ]
  },
  {
   "cell_type": "code",
   "execution_count": null,
   "metadata": {},
   "outputs": [],
   "source": [
    "# Usando el teorema de Chebyshev, estableceremos 2 desviaciones standar en k segun formula (1 - 1/k**2) = porcentaje\n",
    "k = 2\n",
    "\n",
    "\n",
    "limite_inferior = media_aritmetica_metros_ninos - k * desv_std\n",
    "limite_superior = media_aritmetica_metros_ninos + k * desv_std\n",
    "\n",
    "print(f'Según los datos calculados media aritmética igual a {media_aritmetica_metros_ninos} y desviación estándar igual a {desv_std} y usando el teorema de Chebyshev para calcular los limites inferiores y superiores del rango del 75% de los registros')\n",
    "print(f'Límite inferior (k={k}): {limite_inferior}')\n",
    "print(f'Limite superior (k={k}): {limite_superior}')\n",
    "\n"
   ]
  }
 ],
 "metadata": {
  "kernelspec": {
   "display_name": "base",
   "language": "python",
   "name": "python3"
  },
  "language_info": {
   "codemirror_mode": {
    "name": "ipython",
    "version": 3
   },
   "file_extension": ".py",
   "mimetype": "text/x-python",
   "name": "python",
   "nbconvert_exporter": "python",
   "pygments_lexer": "ipython3",
   "version": "3.11.7"
  }
 },
 "nbformat": 4,
 "nbformat_minor": 2
}
