{
 "cells": [
  {
   "cell_type": "markdown",
   "metadata": {},
   "source": [
    "# Modulo 3 Actividad 3"
   ]
  },
  {
   "cell_type": "markdown",
   "metadata": {},
   "source": [
    "Intención del aprendizaje esperado:"
   ]
  },
  {
   "cell_type": "markdown",
   "metadata": {},
   "source": [
    "**3. Presentar información de un set de datos utilizando librería Matplotlib para graficar la información.**"
   ]
  },
  {
   "cell_type": "markdown",
   "metadata": {},
   "source": [
    "Ejercicios Planteados"
   ]
  },
  {
   "cell_type": "markdown",
   "metadata": {},
   "source": [
    "**Caso:**\n",
    "\n",
    "\n",
    "*Se tiene un fichero csv con información relativa a datos de un estudio realizado en la zona de Boston, donde se analizan diferentes variables, como son el índice de crimen, el número de habitaciones, el porcentaje de habitantes de clase baja y el valor medio de las casas de esa zona*"
   ]
  },
  {
   "cell_type": "markdown",
   "metadata": {},
   "source": [
    "Pasos:"
   ]
  },
  {
   "cell_type": "markdown",
   "metadata": {},
   "source": [
    "- Importar librerías a utilizar para el caso en cuestión (panda, matplotlib)\n",
    "\n",
    "- Leer csv correspondiente\n",
    "\n",
    "- Renombrar campos\n",
    "\n",
    "\n"
   ]
  },
  {
   "cell_type": "code",
   "execution_count": null,
   "metadata": {},
   "outputs": [],
   "source": [
    "import pandas as pd\n",
    "import matplotlib.pyplot as plt\n",
    "import numpy as np\n",
    "import seaborn as sns\n",
    "\n",
    "casas = pd.read_csv('casasboston.csv')\n",
    "df_casas_boston = pd.DataFrame(casas)\n",
    "\n",
    "print(df_casas_boston)\n"
   ]
  },
  {
   "cell_type": "code",
   "execution_count": null,
   "metadata": {},
   "outputs": [],
   "source": [
    "df_casas_boston.rename(columns={'TOWN' : 'Localidad', 'CRIM' : 'Indice Criminalidad', 'RM' : 'Prom. Habitaciones', 'CHAS' : 'Costanera Río', 'MEDV' : 'Valor Medio Vivienda',\n",
    "                                'AGE' : 'Edad', 'PTRATIO' : 'Colegios por Localidad', 'NOX' : 'Concentracion Óxidos Nítricos'}, inplace=True)\n",
    "df_casas_boston\n"
   ]
  },
  {
   "cell_type": "markdown",
   "metadata": {},
   "source": [
    "- Confeccionar los siguientes gráficos.  Para cada gráfico debe generar la correcta interpretación para lectura de cualquier persona, esto es, no use términos técnicos\n",
    "\n",
    "     **Histograma:** Un histograma es útil para ver la distribución de una variable, es decir, nos permite ver los valores más comunes. \n",
    "     Para el caso que se presenta se desea ver la distribución de la cantidad media de habitaciones en el estudio realizado.\n",
    "\n"
   ]
  },
  {
   "cell_type": "code",
   "execution_count": null,
   "metadata": {},
   "outputs": [],
   "source": [
    "\n",
    "n, bins, patches = plt.hist(df_casas_boston['Prom. Habitaciones'], bins=6, edgecolor='black')\n",
    "\n",
    "\n",
    "ancho = bins[1] - bins[0]\n",
    "\n",
    "\n",
    "for i in range(len(n)):\n",
    "    plt.text(bins[i] + ancho/2, n[i] + 1, str(int(n[i])), ha='center', va='bottom')\n",
    "\n",
    "plt.title('Distribución Numero de Viviendas vs Cantidad Habitaciones Promedio')\n",
    "plt.xlabel('Cantidad de Habitaciones Promedio')\n",
    "plt.ylabel('Cantidad de Viviendas')\n",
    "\n",
    "\n",
    "plt.show()\n"
   ]
  },
  {
   "cell_type": "markdown",
   "metadata": {},
   "source": [
    "Respecto a la información que refleja el gráfico se puede observar que existe una distribución de tipo normal sobre la cantidad de habitaciones por vivienda"
   ]
  },
  {
   "cell_type": "markdown",
   "metadata": {},
   "source": [
    " **Dispersión:** sirve para representar la relación entre dos variables. Para nuestro caso se desea ver la relación entre índice de crimen y el valor mediano de las casas. En otras palabras, ¿el índice de crimen afecta el valor medio de las casas?"
   ]
  },
  {
   "cell_type": "code",
   "execution_count": null,
   "metadata": {},
   "outputs": [],
   "source": [
    "indice_criminalidad = df_casas_boston['Indice Criminalidad']\n",
    "valor_medio_vivienda = df_casas_boston['Valor Medio Vivienda']\n",
    "\n",
    "\n",
    "plt.figure(figsize=(10, 6))\n",
    "plt.scatter(indice_criminalidad, valor_medio_vivienda, c='red', alpha=0.5)\n",
    "\n",
    "\n",
    "plt.title('Valor Medio Vivienda vs Indice de Criminalidad')\n",
    "plt.xlabel('Indice Criminalidad')\n",
    "plt.ylabel('Valor Medio Vivienda')\n",
    "plt.grid(True)\n",
    "\n",
    "plt.show()\n"
   ]
  },
  {
   "cell_type": "markdown",
   "metadata": {},
   "source": [
    "No podemos asegurar con el gráfico que existe una relación directa entre precio e indice de criminalidad ya que la distribución de los datos nos permite observar que existen casas de alta tasación que se ubican en sectores con indice de criminalidad más alto que otras de menor cuantía, sin embargo si podemos observar una tendecia respecto a la disminución de precios de viviendas a partir de cierto límite en el indice de criminalidad, como por ejemplo que a partir de viviendas con Indice de Criminalidad mayores a 20, la tasación de ellas es menor a 20.000 por lo que podríamos decir que en determinadas condiciones empieza a existir una influencia del índice de criminalidad sobre el valor de las viviendas."
   ]
  },
  {
   "cell_type": "markdown",
   "metadata": {},
   "source": [
    "**Barras:** Un gráfico de barras es útil para comparar una variable entre distintos grupos o categorías. Por ejemplo, si quisiéramos observar el valor medio de cada ciudad. Para nuestro caso se desea agrupar por ciudad y toma la media del valor mediano. Gráfica las 10 primeras ciudades."
   ]
  },
  {
   "cell_type": "code",
   "execution_count": null,
   "metadata": {},
   "outputs": [],
   "source": [
    "df_valor_medio_ciudad = df_casas_boston.groupby('Localidad')['Valor Medio Vivienda'].mean().reset_index()\n",
    "\n",
    "df_valor_medio_ciudad_ordenado = df_valor_medio_ciudad.sort_values(by='Valor Medio Vivienda', ascending=False)\n",
    "df_valor_medio_ciudad_ordenado_10 = df_valor_medio_ciudad_ordenado.head(10)\n",
    "df_valor_medio_ciudad_ordenado_10\n",
    "\n",
    "\n"
   ]
  },
  {
   "cell_type": "code",
   "execution_count": null,
   "metadata": {},
   "outputs": [],
   "source": [
    "plt.figure(figsize=(13, 6))\n",
    "barras = plt.bar(df_valor_medio_ciudad_ordenado_10['Localidad'], df_valor_medio_ciudad_ordenado_10['Valor Medio Vivienda'], color='blue')\n",
    "plt.xticks(fontsize=7)\n",
    "plt.ylim(0, 60)\n",
    "plt.xlabel('Localidad')\n",
    "plt.ylabel('Valor Medio Vivienda')\n",
    "plt.title('Top 10 Localidad mayor precio promedio viviendas')\n",
    "\n",
    "for barra in barras:\n",
    "    yval = barra.get_height()\n",
    "    plt.text(barra.get_x() + barra.get_width()/2, yval + 0.5, round(yval, 2), ha='center', va='bottom', fontsize=7)\n",
    "\n",
    "\n",
    "plt.tight_layout()\n",
    "plt.show()  \n",
    "\n"
   ]
  },
  {
   "cell_type": "markdown",
   "metadata": {},
   "source": [
    "**Cajas:** Los diagramas de cajas son útiles para representar grupos de datos y compararlos entre ellos. Otro uso importante es que nos permiten identificar de forma sencilla si una variable tiene muchos outliers (valores atípicos) esto es, elementos que se alejan de los valores frecuentes de dicha variable. Para nuestro caso, se desea ver los valores atípicos de índice de crimen en los diferentes cuantiles de valor mediano."
   ]
  },
  {
   "cell_type": "code",
   "execution_count": null,
   "metadata": {},
   "outputs": [],
   "source": [
    "\n",
    "q1 = np.percentile(df_casas_boston['Indice Criminalidad'], 25)\n",
    "q2 = np.percentile(df_casas_boston['Indice Criminalidad'], 50)\n",
    "q3 = np.percentile(df_casas_boston['Indice Criminalidad'], 75)\n",
    "\n",
    "\n",
    "plt.figure(figsize=(10, 6))\n",
    "plt.boxplot(df_casas_boston['Indice Criminalidad'])\n",
    "\n",
    "plt.annotate(f'Q1 = {q1:.2f}', xy=(0.94, q1), xytext=(0.6, 1), arrowprops=dict(facecolor='red', shrink=0.05), fontsize=8, bbox=dict(facecolor='red', alpha=0.5))\n",
    "plt.annotate(f'Q2 = {q2:.2f}', xy=(0.95, q2), xytext=(0.6, 7), arrowprops=dict(facecolor='blue', shrink=0.05), fontsize=8, bbox=dict(facecolor='blue', alpha=0.5))\n",
    "plt.annotate(f'Q3 = {q3:.2f}', xy=(0.95, q3), xytext=(0.6, 13), arrowprops=dict(facecolor='green', shrink=0.05), fontsize=8, bbox=dict(facecolor='green', alpha=0.5))\n",
    "\n",
    "\n",
    "\n",
    "plt.ylabel('Indice Criminalidad')\n",
    "plt.title('Indice de Criminalidad Boston - Gráfico de Cajas')\n",
    "plt.xticks([])\n",
    "\n",
    "# Mostrar el gráfico\n",
    "plt.show()\n"
   ]
  },
  {
   "cell_type": "markdown",
   "metadata": {},
   "source": [
    "Analizando el gráfico podemos inferir lo siguiente.  Debido al tamaño de la caja podemos inferir que la mayor parte de las casas se concentra en un bajo rango de indice de criminalidad respecto al universo total de la muestra.  Que a partir del tercer cuartil los datos empiezan a mostrar una distribución en rango más amplio pero sigue siendo bajo respecto al total de la muestra.  A partir del limite superior se registran los eventos que escapan de manera evidente respecto al comportamiento reflejado en la muestra.  Existe una alta concentración de estos eventos 'outliers' hasta cerca del 30 en la escala de indice de criminalidad y otros 8 a 9 eventos que escapan de manera exagerada sobre la mayoría de la muestra, sin embargo en comparación con la mayoría de la muestra, este último rango de datos está distribuido de manera mas dispersa con relación al porcentaje de la muestra lo que se refleja en la diferencia de longitud entre la caja (incluyendo su bigote superior) y la longitud de los datos restantes.  Se puede asegurar también que no hay eventos que escapen de manera excesiva del la mayoría en el rango inferior de la caja."
   ]
  }
 ],
 "metadata": {
  "kernelspec": {
   "display_name": "base",
   "language": "python",
   "name": "python3"
  },
  "language_info": {
   "codemirror_mode": {
    "name": "ipython",
    "version": 3
   },
   "file_extension": ".py",
   "mimetype": "text/x-python",
   "name": "python",
   "nbconvert_exporter": "python",
   "pygments_lexer": "ipython3",
   "version": "3.11.7"
  }
 },
 "nbformat": 4,
 "nbformat_minor": 2
}
