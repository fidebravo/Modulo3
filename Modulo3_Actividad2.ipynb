{
 "cells": [
  {
   "cell_type": "markdown",
   "metadata": {},
   "source": [
    "# Modulo 3 Actividad 2"
   ]
  },
  {
   "cell_type": "markdown",
   "metadata": {},
   "source": [
    "Intención del aprendizaje esperado:"
   ]
  },
  {
   "cell_type": "markdown",
   "metadata": {},
   "source": [
    "2. Explica los conceptos de correlación y regresión lineal para la caracterización de un conjunto de datos de una población."
   ]
  },
  {
   "cell_type": "markdown",
   "metadata": {},
   "source": [
    "Ejercicios Planteados\n"
   ]
  },
  {
   "cell_type": "markdown",
   "metadata": {},
   "source": [
    "**Caso:**\n",
    "\n",
    "Una compañía desea hacer predicciones del valor anual de sus ventas totales en cierto país a partir de la relación de éstas y la renta nacional. Para investigar la relación cuenta con los siguientes datos:\n"
   ]
  },
  {
   "cell_type": "markdown",
   "metadata": {},
   "source": [
    "<img src=\"tablaxy.jpg\">"
   ]
  },
  {
   "cell_type": "markdown",
   "metadata": {},
   "source": [
    "X representa la renta nacional en millones de euros e Y representa las ventas de la compañía en miles de euros en el periodo que va desde 2010 hasta 2020 (ambos inclusive). "
   ]
  },
  {
   "cell_type": "markdown",
   "metadata": {},
   "source": [
    "Calcular:\n",
    "1. La recta de regresión lineal de Y sobre X.\n",
    "2. El coeficiente de correlación lineal e interpretarlo.\n",
    "3. Si en 2011 la renta nacional del país fue de 325 millones de euros. ¿Cuál \n",
    "será la predicción para las ventas de la compañía en este año?"
   ]
  },
  {
   "cell_type": "code",
   "execution_count": null,
   "metadata": {},
   "outputs": [],
   "source": [
    "import pandas as pd\n",
    "\n",
    "registros_renta_nacional_ventas_compañia = {'Renta Nacional' : [189, 190, 208, 227, 239, 252, 257, 274, 293, 308, 316], 'Venta Compañia M€' : [402, 404, 412, 425, 429, 436, 440, 447, 458, 469, 469]}\n",
    "\n",
    "df_rentanac_vs_ventacompania = pd.DataFrame(registros_renta_nacional_ventas_compañia)\n",
    "df_rentanac_vs_ventacompania\n"
   ]
  },
  {
   "cell_type": "code",
   "execution_count": null,
   "metadata": {},
   "outputs": [],
   "source": [
    "import pandas as pd\n",
    "import numpy as np\n",
    "import matplotlib.pyplot as plt\n",
    "\n",
    "\n",
    "numero_eventos = len(df_rentanac_vs_ventacompania)\n",
    "sumatoria_renta_nacional = df_rentanac_vs_ventacompania['Renta Nacional'].sum()\n",
    "sumatoria_ventas_compania = df_rentanac_vs_ventacompania['Venta Compañia M€'].sum()\n",
    "sumatoria_renta_x_venta = (df_rentanac_vs_ventacompania['Renta Nacional'] * df_rentanac_vs_ventacompania['Venta Compañia M€']).sum()\n",
    "sumatoria_cuadrados_renta = (df_rentanac_vs_ventacompania['Renta Nacional'] ** 2).sum()\n",
    "\n",
    "pendiente = (numero_eventos * sumatoria_renta_x_venta - sumatoria_renta_nacional * sumatoria_ventas_compania) / (numero_eventos * sumatoria_cuadrados_renta - sumatoria_renta_nacional**2) # beta 1\n",
    "intercepto = (sumatoria_ventas_compania - pendiente * sumatoria_renta_nacional) / numero_eventos # beta 0\n",
    "\n",
    "# Agregar una columna con los valores estimados de 'Venta Compañia M€'\n",
    "df_rentanac_vs_ventacompania['Venta Compañia M€_pred'] = intercepto + pendiente * df_rentanac_vs_ventacompania['Renta Nacional']\n",
    "\n",
    "# Graficar los datos originales y la recta de regresión lineal\n",
    "plt.figure(figsize=(10, 6))\n",
    "plt.scatter(df_rentanac_vs_ventacompania['Renta Nacional'], df_rentanac_vs_ventacompania['Venta Compañia M€'], color='blue', label='Datos Originales')\n",
    "plt.plot(df_rentanac_vs_ventacompania['Renta Nacional'], df_rentanac_vs_ventacompania['Venta Compañia M€_pred'], color='red', label='Recta de Regresión Lineal')\n",
    "plt.title('Recta de Regresión Lineal')\n",
    "plt.xlabel('Renta Nacional')\n",
    "plt.ylabel('Venta Compañia M€')\n",
    "plt.legend()\n",
    "plt.grid(True)\n",
    "plt.show()\n"
   ]
  },
  {
   "cell_type": "markdown",
   "metadata": {},
   "source": [
    "El coeficiente de correlacion lineal nos permite ver en que grado están emparentados las variables escogidas en cuanto a su comportamiento.  Sus rangos varían entre el -1 y 1.  Los nunmeros negativos nos indican que existe una correlación inversamente proporcional lo que significa que a medida que una variable aumenta la otra tiende a disminuir.  En el caso de las cifras positivas, esto significa que existe una correlación proporcional respecto a los valores de ambas variables implicando que si una aumenta, la otra también aumentará.  En el caso de valores iguales a cero, implica que no existe una correlación respectos a los eventos  o variables observadas.\n",
    "\n",
    "Para el caso del ejercicio utilizaremos el método de Pearson pues en vista de los resultados del gráfico anterior se puede observar una tendencia de los datos a estar muy cercanos a la recta de regresión lineal."
   ]
  },
  {
   "cell_type": "code",
   "execution_count": null,
   "metadata": {},
   "outputs": [],
   "source": [
    "correlacion = df_rentanac_vs_ventacompania['Renta Nacional'].corr(df_rentanac_vs_ventacompania['Venta Compañia M€'])\n",
    "\n",
    "print(f'Se ha utilizado el método de Spearman para calcular el coeficiente de correlación obteniendo como resultado {correlacion:.4f}. Esto implica que existe una fuerte correlación proporcional de los eventos o variables.')\n"
   ]
  },
  {
   "cell_type": "markdown",
   "metadata": {},
   "source": [
    "En cuanto a las ventas de la compañía para el año 2021 según la información de la Renta Nacional (325) y mediante el uso de la fórmula de regresión lineal:\n"
   ]
  },
  {
   "cell_type": "code",
   "execution_count": null,
   "metadata": {},
   "outputs": [],
   "source": [
    "renta_ano_2021 = 325\n",
    "\n",
    "proyeccion_venta_ano_2021 = int(intercepto + pendiente * renta_ano_2021)\n",
    "\n",
    "print(f'Se proyecta que el total de ventas para el año 2021 sea de {proyeccion_venta_ano_2021} M€.')\n",
    "print('Esta proyección se realiza en base al comportamiento que han experimentado la renta Nacional y las ventas de compañía durante 11 años y su correlación casi perfecta')\n"
   ]
  }
 ],
 "metadata": {
  "kernelspec": {
   "display_name": "base",
   "language": "python",
   "name": "python3"
  },
  "language_info": {
   "codemirror_mode": {
    "name": "ipython",
    "version": 3
   },
   "file_extension": ".py",
   "mimetype": "text/x-python",
   "name": "python",
   "nbconvert_exporter": "python",
   "pygments_lexer": "ipython3",
   "version": "3.11.7"
  }
 },
 "nbformat": 4,
 "nbformat_minor": 2
}
